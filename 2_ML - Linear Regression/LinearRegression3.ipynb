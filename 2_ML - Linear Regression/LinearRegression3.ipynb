{
 "cells": [
  {
   "cell_type": "markdown",
   "id": "37c8f49b",
   "metadata": {},
   "source": [
    "## Dependencies"
   ]
  },
  {
   "cell_type": "code",
   "execution_count": 40,
   "id": "7965b4d1",
   "metadata": {},
   "outputs": [],
   "source": [
    "import numpy as np\n",
    "import pandas as pd\n",
    "import matplotlib.pyplot as plt\n",
    "import seaborn as sns\n",
    "from matplotlib.ticker import AutoMinorLocator\n",
    "from sklearn.model_selection import train_test_split\n",
    "from sklearn.linear_model import LinearRegression\n",
    "from sklearn.metrics import r2_score"
   ]
  },
  {
   "cell_type": "markdown",
   "id": "9d7a887c",
   "metadata": {},
   "source": [
    "## Dataset, Visualization"
   ]
  },
  {
   "cell_type": "code",
   "execution_count": 2,
   "id": "95f72147",
   "metadata": {},
   "outputs": [
    {
     "name": "stdout",
     "output_type": "stream",
     "text": [
      "--2021-09-09 11:35:17--  https://static.oc-static.com/prod/courses/files/initiez-vous-au-machine-learning/house_data.csv\n",
      "Resolving static.oc-static.com (static.oc-static.com)... 104.21.27.218, 172.67.169.198, 2606:4700:3031::ac43:a9c6, ...\n",
      "Connecting to static.oc-static.com (static.oc-static.com)|104.21.27.218|:443... connected.\n",
      "HTTP request sent, awaiting response... 416 Requested Range Not Satisfiable\n",
      "\n",
      "    The file is already fully retrieved; nothing to do.\n",
      "\n"
     ]
    }
   ],
   "source": [
    "! wget -c \"https://static.oc-static.com/prod/courses/files/initiez-vous-au-machine-learning/house_data.csv\""
   ]
  },
  {
   "cell_type": "code",
   "execution_count": 3,
   "id": "864628b5",
   "metadata": {},
   "outputs": [],
   "source": [
    "# Load dataset\n",
    "raw_data = pd.read_csv(\"house_data.csv\")"
   ]
  },
  {
   "cell_type": "code",
   "execution_count": 4,
   "id": "14670ce1",
   "metadata": {},
   "outputs": [
    {
     "data": {
      "text/html": [
       "<div>\n",
       "<style scoped>\n",
       "    .dataframe tbody tr th:only-of-type {\n",
       "        vertical-align: middle;\n",
       "    }\n",
       "\n",
       "    .dataframe tbody tr th {\n",
       "        vertical-align: top;\n",
       "    }\n",
       "\n",
       "    .dataframe thead th {\n",
       "        text-align: right;\n",
       "    }\n",
       "</style>\n",
       "<table border=\"1\" class=\"dataframe\">\n",
       "  <thead>\n",
       "    <tr style=\"text-align: right;\">\n",
       "      <th></th>\n",
       "      <th>price</th>\n",
       "      <th>surface</th>\n",
       "      <th>arrondissement</th>\n",
       "    </tr>\n",
       "  </thead>\n",
       "  <tbody>\n",
       "    <tr>\n",
       "      <th>count</th>\n",
       "      <td>827.000000</td>\n",
       "      <td>822.000000</td>\n",
       "      <td>822.000000</td>\n",
       "    </tr>\n",
       "    <tr>\n",
       "      <th>mean</th>\n",
       "      <td>2007.342201</td>\n",
       "      <td>58.045925</td>\n",
       "      <td>4.142336</td>\n",
       "    </tr>\n",
       "    <tr>\n",
       "      <th>std</th>\n",
       "      <td>1890.894229</td>\n",
       "      <td>44.827522</td>\n",
       "      <td>3.202151</td>\n",
       "    </tr>\n",
       "    <tr>\n",
       "      <th>min</th>\n",
       "      <td>390.000000</td>\n",
       "      <td>10.000000</td>\n",
       "      <td>1.000000</td>\n",
       "    </tr>\n",
       "    <tr>\n",
       "      <th>25%</th>\n",
       "      <td>1050.000000</td>\n",
       "      <td>28.655000</td>\n",
       "      <td>2.000000</td>\n",
       "    </tr>\n",
       "    <tr>\n",
       "      <th>50%</th>\n",
       "      <td>1567.000000</td>\n",
       "      <td>46.100000</td>\n",
       "      <td>3.000000</td>\n",
       "    </tr>\n",
       "    <tr>\n",
       "      <th>75%</th>\n",
       "      <td>2346.000000</td>\n",
       "      <td>73.000000</td>\n",
       "      <td>4.000000</td>\n",
       "    </tr>\n",
       "    <tr>\n",
       "      <th>max</th>\n",
       "      <td>25000.000000</td>\n",
       "      <td>415.000000</td>\n",
       "      <td>10.000000</td>\n",
       "    </tr>\n",
       "  </tbody>\n",
       "</table>\n",
       "</div>"
      ],
      "text/plain": [
       "              price     surface  arrondissement\n",
       "count    827.000000  822.000000      822.000000\n",
       "mean    2007.342201   58.045925        4.142336\n",
       "std     1890.894229   44.827522        3.202151\n",
       "min      390.000000   10.000000        1.000000\n",
       "25%     1050.000000   28.655000        2.000000\n",
       "50%     1567.000000   46.100000        3.000000\n",
       "75%     2346.000000   73.000000        4.000000\n",
       "max    25000.000000  415.000000       10.000000"
      ]
     },
     "execution_count": 4,
     "metadata": {},
     "output_type": "execute_result"
    }
   ],
   "source": [
    "# Overview of raw data\n",
    "raw_data.describe()"
   ]
  },
  {
   "cell_type": "code",
   "execution_count": 5,
   "id": "557445f2",
   "metadata": {},
   "outputs": [],
   "source": [
    "# Remove missing values\n",
    "data_na = raw_data.dropna()\n",
    "\n",
    "# Remove outliers\n",
    "data = data_na[data_na[\"price\"] < 8000]\n",
    "\n",
    "# Reindexing\n",
    "data = data.reset_index(drop = True)"
   ]
  },
  {
   "cell_type": "code",
   "execution_count": 6,
   "id": "e4ff2e23",
   "metadata": {},
   "outputs": [
    {
     "data": {
      "text/plain": [
       "<AxesSubplot:xlabel='price', ylabel='surface'>"
      ]
     },
     "execution_count": 6,
     "metadata": {},
     "output_type": "execute_result"
    },
    {
     "data": {
      "image/png": "[encoded data removed]",
      "text/plain": [
       "<Figure size 432x288 with 2 Axes>"
      ]
     },
     "metadata": {
      "needs_background": "light"
     },
     "output_type": "display_data"
    }
   ],
   "source": [
    "# Display cleaned data\n",
    "data.plot.scatter(\"price\", \"surface\", c=\"arrondissement\", colormap='viridis')"
   ]
  },
  {
   "cell_type": "code",
   "execution_count": 26,
   "id": "d7679359",
   "metadata": {},
   "outputs": [
    {
     "data": {
      "image/png": "[encoded data removed]",
      "text/plain": [
       "<Figure size 432x288 with 1 Axes>"
      ]
     },
     "metadata": {
      "needs_background": "light"
     },
     "output_type": "display_data"
    }
   ],
   "source": [
    "# Price according to the \"arrondissement\" (district)\n",
    "ax1 = sns.violinplot(x = 'arrondissement', y = 'price', data = data, hue = 'arrondissement') # combination of boxplot and kernel density estimate.\n",
    "ax1.minorticks_on() # Enable minor tickers (\"micro-graduations\")\n",
    "ax1.xaxis.set_minor_locator(AutoMinorLocator(n = 2)) # Set 2 minor tickers instead of the default value (5)\n",
    "ax1.grid(which='minor', axis='x', linewidth=1) # Add grid at minor tickers\n"
   ]
  },
  {
   "cell_type": "markdown",
   "id": "9ace8e28",
   "metadata": {},
   "source": [
    "The price distribution seems similar albeit prices are lower in the 10th arrondissement"
   ]
  },
  {
   "cell_type": "code",
   "execution_count": 27,
   "id": "e04ac8db",
   "metadata": {},
   "outputs": [
    {
     "data": {
      "image/png": "[encoded data removed]",
      "text/plain": [
       "<Figure size 432x288 with 1 Axes>"
      ]
     },
     "metadata": {
      "needs_background": "light"
     },
     "output_type": "display_data"
    }
   ],
   "source": [
    "fig = plt.figure().gca(projection='3d')\n",
    "\n",
    "# To make visualization easier, we change the value of the \"arrondissement\" (10 -> 5)\n",
    "tmp_arr = data['arrondissement'][:] # Retrieve \"arrondissement\" column\n",
    "tmp_arr[tmp_arr == 10] = 5  \n",
    "\n",
    "fig.scatter(tmp_arr, data['surface'], data['price'], c=tmp_arr, cmap=\"viridis\") # display the 3 columns with a scatter in 3D\n",
    "plt.show()"
   ]
  },
  {
   "cell_type": "markdown",
   "id": "0de90ead",
   "metadata": {},
   "source": [
    "We will do a linear regression on each district. Before that, we separate the dataset into a training set and a test set. We first do a linear regression on all \"arrondissements\""
   ]
  },
  {
   "cell_type": "markdown",
   "id": "9a210884",
   "metadata": {},
   "source": [
    "## Linear Regression on all arrondissements"
   ]
  },
  {
   "cell_type": "code",
   "execution_count": 31,
   "id": "2e4fd1c2",
   "metadata": {},
   "outputs": [],
   "source": [
    "xtrain, xtest, ytrain, ytest = train_test_split(data[[\"arrondissement\", \"surface\"]], data[[\"price\"]], test_size=0.3)"
   ]
  },
  {
   "cell_type": "markdown",
   "id": "f2e0ae38",
   "metadata": {},
   "source": [
    "Then, we do the linear regression. To measure its accuracy, we use the coefficient of determination (R²)."
   ]
  },
  {
   "cell_type": "code",
   "execution_count": 38,
   "id": "2c46ffbb",
   "metadata": {},
   "outputs": [
    {
     "data": {
      "text/plain": [
       "[<matplotlib.lines.Line2D at 0x7efdc584cdf0>]"
      ]
     },
     "execution_count": 38,
     "metadata": {},
     "output_type": "execute_result"
    },
    {
     "data": {
      "image/png": "[encoded data removed]",
      "text/plain": [
       "<Figure size 432x288 with 1 Axes>"
      ]
     },
     "metadata": {
      "needs_background": "light"
     },
     "output_type": "display_data"
    }
   ],
   "source": [
    "lr = LinearRegression()\n",
    "lr_baseline = lr.fit(xtrain[[\"surface\"]], ytrain) # surface and price\n",
    "baseline_pred = lr.predict(xtest[[\"surface\"]]) # predicted prices\n",
    "\n",
    "plt.plot(xtest[[\"surface\"]], ytest, 'bo', markersize = 5) # test set point cloud\n",
    "plt.plot(xtest[[\"surface\"]], baseline_pred, color=\"skyblue\", linewidth = 2) # prediction (result of the linear regression)"
   ]
  },
  {
   "cell_type": "code",
   "execution_count": 47,
   "id": "99e3faf6",
   "metadata": {},
   "outputs": [
    {
     "name": "stdout",
     "output_type": "stream",
     "text": [
      "0.8309046991949871\n"
     ]
    }
   ],
   "source": [
    "score = r2_score(ytest['price'], baseline_pred[:,0])\n",
    "print(score)"
   ]
  },
  {
   "cell_type": "markdown",
   "id": "7f577c29",
   "metadata": {},
   "source": [
    "## Linear Regression for each \"arrondissement\" (district)"
   ]
  },
  {
   "cell_type": "code",
   "execution_count": 53,
   "id": "e2d26277",
   "metadata": {},
   "outputs": [],
   "source": [
    "lrs = []\n",
    "for i in np.unique(xtrain[\"arrondissement\"]):\n",
    "    # A data set for each \"arrondissement\"\n",
    "    train_arr = xtrain[\"arrondissement\"] == i # Series of booleans for selecting rows in the DataFrame\n",
    "    test_arr = xtest[\"arrondissement\"] == i\n",
    "    \n",
    "    # Training set\n",
    "    xtrain_arr = xtrain[train_arr] # arrondissements, surfaces (features)\n",
    "    ytrain_arr = ytrain[train_arr] # prices (label)\n",
    "    \n",
    "    # Test set\n",
    "    xtest_arr = xtest[test_arr] # arrondissements, surfaces (features)\n",
    "    ytest_arr = ytest[test_arr] # known prices to compare with predictions\n",
    "    \n",
    "    lr = LinearRegression()\n",
    "    lr.fit(xtrain_arr[[\"surface\"]], ytrain_arr)\n",
    "    lrs.append(lr)"
   ]
  },
  {
   "cell_type": "markdown",
   "id": "15cfed09",
   "metadata": {},
   "source": [
    "## Final Prediction / Evaluation"
   ]
  },
  {
   "cell_type": "code",
   "execution_count": 74,
   "id": "8551b5ee",
   "metadata": {},
   "outputs": [
    {
     "name": "stdout",
     "output_type": "stream",
     "text": [
      "Surface: 130.000000\n",
      "Price prediction: 4104.186597\n",
      "Surface: 40.000000\n",
      "Price prediction: 1417.668685\n",
      "Surface: 160.000000\n",
      "Price prediction: 5116.003063\n",
      "Surface: 116.000000\n",
      "Price prediction: 2712.652324\n",
      "Surface: 103.000000\n",
      "Price prediction: 3390.481750\n",
      "Surface: 21.000000\n",
      "Price prediction: 789.245806\n",
      "Surface: 35.000000\n",
      "Price prediction: 1268.417690\n",
      "Surface: 40.000000\n",
      "Price prediction: 1445.720893\n",
      "Surface: 22.000000\n",
      "Price prediction: 809.492191\n",
      "Surface: 30.000000\n",
      "Price prediction: 971.463266\n",
      "Surface: 12.000000\n",
      "Price prediction: 607.028347\n",
      "Surface: 15.000000\n",
      "Price prediction: 667.767500\n",
      "Surface: 91.000000\n",
      "Price prediction: 3027.214105\n",
      "Surface: 136.000000\n",
      "Price prediction: 4433.381962\n",
      "Surface: 99.000000\n",
      "Price prediction: 3269.392535\n",
      "Surface: 16.430000\n",
      "Price prediction: 712.187858\n",
      "Surface: 55.000000\n",
      "Price prediction: 2009.854288\n",
      "Surface: 30.000000\n",
      "Price prediction: 1119.166694\n",
      "Surface: 20.000000\n",
      "Price prediction: 820.664704\n",
      "Surface: 108.000000\n",
      "Price prediction: 2550.681249\n",
      "Surface: 103.000000\n",
      "Price prediction: 3298.231223\n",
      "Surface: 40.090000\n",
      "Price prediction: 1448.521826\n",
      "Surface: 135.000000\n",
      "Price prediction: 4253.437592\n",
      "Surface: 47.300000\n",
      "Price prediction: 1801.453243\n",
      "Surface: 35.000000\n",
      "Price prediction: 1331.965096\n",
      "Surface: 76.290000\n",
      "Price prediction: 2586.069642\n",
      "Surface: 101.000000\n",
      "Price prediction: 3254.847538\n",
      "Surface: 26.000000\n",
      "Price prediction: 1059.514362\n",
      "Surface: 24.000000\n",
      "Price prediction: 940.065500\n",
      "Surface: 25.000000\n",
      "Price prediction: 870.231344\n",
      "Surface: 40.000000\n",
      "Price prediction: 1483.326614\n",
      "Surface: 114.000000\n",
      "Price prediction: 3626.583413\n",
      "Surface: 57.000000\n",
      "Price prediction: 1974.785874\n",
      "Surface: 75.700000\n",
      "Price prediction: 2564.047858\n",
      "Surface: 41.000000\n",
      "Price prediction: 1447.518884\n",
      "Surface: 49.000000\n",
      "Price prediction: 1686.320476\n",
      "Surface: 81.350000\n",
      "Price prediction: 2651.974414\n",
      "Surface: 38.000000\n",
      "Price prediction: 1383.477954\n",
      "Surface: 27.000000\n",
      "Price prediction: 1089.786666\n",
      "Surface: 100.000000\n",
      "Price prediction: 3208.680626\n",
      "Surface: 159.300000\n",
      "Price prediction: 5094.812450\n",
      "Surface: 14.000000\n",
      "Price prediction: 647.521116\n",
      "Surface: 112.000000\n",
      "Price prediction: 3566.883014\n",
      "Surface: 27.600000\n",
      "Price prediction: 922.871943\n",
      "Surface: 20.000000\n",
      "Price prediction: 823.291504\n",
      "Surface: 30.150000\n",
      "Price prediction: 1185.144423\n",
      "Surface: 94.900000\n",
      "Price prediction: 3089.750607\n",
      "Surface: 23.000000\n",
      "Price prediction: 910.215301\n",
      "Surface: 60.000000\n",
      "Price prediction: 2088.772689\n",
      "Surface: 42.440000\n",
      "Price prediction: 1223.328288\n",
      "Surface: 27.000000\n",
      "Price prediction: 910.724113\n",
      "Surface: 96.000000\n",
      "Price prediction: 3119.522185\n",
      "Surface: 30.000000\n",
      "Price prediction: 971.463266\n",
      "Surface: 16.500000\n",
      "Price prediction: 771.927477\n",
      "Surface: 70.000000\n",
      "Price prediction: 2415.830348\n",
      "Surface: 27.000000\n",
      "Price prediction: 1029.616097\n",
      "Surface: 106.000000\n",
      "Price prediction: 3499.737878\n",
      "Surface: 39.000000\n",
      "Price prediction: 1387.818486\n",
      "Surface: 50.000000\n",
      "Price prediction: 1874.528934\n",
      "Surface: 180.000000\n",
      "Price prediction: 5721.449138\n",
      "Surface: 25.000000\n",
      "Price prediction: 870.231344\n",
      "Surface: 27.460000\n",
      "Price prediction: 920.037450\n",
      "Surface: 61.000000\n",
      "Price prediction: 1599.101182\n",
      "Surface: 27.000000\n",
      "Price prediction: 1041.141790\n",
      "Surface: 42.000000\n",
      "Price prediction: 1658.008369\n",
      "Surface: 22.000000\n",
      "Price prediction: 885.534443\n",
      "Surface: 96.100000\n",
      "Price prediction: 3122.228692\n",
      "Surface: 92.000000\n",
      "Price prediction: 3064.037306\n",
      "Surface: 16.000000\n",
      "Price prediction: 756.791325\n",
      "Surface: 91.000000\n",
      "Price prediction: 3027.214105\n",
      "Surface: 87.500000\n",
      "Price prediction: 2923.990693\n",
      "Surface: 34.000000\n",
      "Price prediction: 1258.992077\n",
      "Surface: 18.000000\n",
      "Price prediction: 728.506653\n",
      "Surface: 39.000000\n",
      "Price prediction: 1387.818486\n",
      "Surface: 10.100000\n",
      "Price prediction: 525.147734\n",
      "Surface: 44.000000\n",
      "Price prediction: 1712.138510\n",
      "Surface: 35.000000\n",
      "Price prediction: 1268.417690\n",
      "Surface: 50.000000\n",
      "Price prediction: 1786.049652\n",
      "Surface: 18.000000\n",
      "Price prediction: 728.506653\n",
      "Surface: 57.000000\n",
      "Price prediction: 2063.984429\n",
      "Surface: 67.000000\n",
      "Price prediction: 1720.579489\n",
      "Surface: 28.390000\n",
      "Price prediction: 1131.865168\n",
      "Surface: 41.000000\n",
      "Price prediction: 1513.598918\n",
      "Surface: 35.900000\n",
      "Price prediction: 1295.282869\n",
      "Surface: 83.300000\n",
      "Price prediction: 2794.117366\n",
      "Surface: 38.000000\n",
      "Price prediction: 1357.968287\n",
      "Surface: 60.000000\n",
      "Price prediction: 2145.179641\n",
      "Surface: 70.000000\n",
      "Price prediction: 2379.364977\n",
      "Surface: 44.000000\n",
      "Price prediction: 1604.415829\n",
      "Surface: 29.000000\n",
      "Price prediction: 1089.316495\n",
      "Surface: 94.000000\n",
      "Price prediction: 3029.579432\n",
      "Surface: 40.000000\n",
      "Price prediction: 1483.326614\n",
      "Surface: 34.000000\n",
      "Price prediction: 1258.992077\n",
      "Surface: 30.000000\n",
      "Price prediction: 1134.506199\n",
      "Surface: 76.150000\n",
      "Price prediction: 2582.280532\n",
      "Surface: 70.900000\n",
      "Price prediction: 2440.188911\n",
      "Surface: 50.000000\n",
      "Price prediction: 1756.935588\n",
      "Surface: 63.320000\n",
      "Price prediction: 2189.276737\n",
      "Surface: 21.000000\n",
      "Price prediction: 789.245806\n",
      "Surface: 26.800000\n",
      "Price prediction: 1023.646057\n",
      "Surface: 36.000000\n",
      "Price prediction: 1298.267889\n",
      "Surface: 16.300000\n",
      "Price prediction: 694.087800\n",
      "Surface: 57.000000\n",
      "Price prediction: 1925.122068\n",
      "Surface: 53.830000\n",
      "Price prediction: 1453.934606\n",
      "Surface: 87.000000\n",
      "Price prediction: 2908.429958\n",
      "Surface: 84.000000\n",
      "Price prediction: 2794.741337\n",
      "Surface: 101.000000\n",
      "Price prediction: 3254.847538\n",
      "Surface: 17.000000\n",
      "Price prediction: 729.927096\n",
      "Surface: 46.300000\n",
      "Price prediction: 1674.042128\n",
      "Surface: 37.000000\n",
      "Price prediction: 1392.509703\n",
      "Surface: 26.000000\n",
      "Price prediction: 999.765898\n",
      "Surface: 15.000000\n",
      "Price prediction: 726.519021\n",
      "Surface: 72.700000\n",
      "Price prediction: 2488.906038\n",
      "Surface: 72.000000\n",
      "Price prediction: 2452.040334\n",
      "Surface: 50.000000\n",
      "Price prediction: 1874.528934\n",
      "Surface: 18.000000\n",
      "Price prediction: 761.048565\n",
      "Surface: 15.540000\n",
      "Price prediction: 684.489750\n",
      "Surface: 20.890000\n",
      "Price prediction: 904.822890\n",
      "Surface: 30.000000\n",
      "Price prediction: 1119.166694\n",
      "Surface: 30.150000\n",
      "Price prediction: 1185.144423\n",
      "Surface: 111.550000\n",
      "Price prediction: 2622.555913\n",
      "Surface: 180.000000\n",
      "Price prediction: 5721.449138\n",
      "Surface: 65.000000\n",
      "Price prediction: 2280.504994\n",
      "Surface: 90.600000\n",
      "Price prediction: 2973.370803\n",
      "Surface: 37.000000\n",
      "Price prediction: 1352.356485\n",
      "Surface: 31.000000\n",
      "Price prediction: 1149.016893\n",
      "Surface: 160.000000\n",
      "Price prediction: 4851.686708\n",
      "Surface: 71.000000\n",
      "Price prediction: 2442.895418\n",
      "Surface: 70.000000\n",
      "Price prediction: 2415.830348\n",
      "Surface: 40.000000\n",
      "Price prediction: 1173.927110\n",
      "Surface: 60.000000\n",
      "Price prediction: 2068.150283\n",
      "Surface: 92.000000\n",
      "Price prediction: 3064.037306\n",
      "Surface: 136.000000\n",
      "Price prediction: 4433.381962\n",
      "Surface: 18.000000\n",
      "Price prediction: 761.048565\n",
      "Surface: 27.000000\n",
      "Price prediction: 1041.141790\n",
      "Surface: 125.000000\n",
      "Price prediction: 4056.472432\n",
      "Surface: 15.000000\n",
      "Price prediction: 667.684157\n",
      "Surface: 42.810000\n",
      "Price prediction: 1501.547744\n",
      "Surface: 169.000000\n",
      "Price prediction: 3785.710697\n",
      "Surface: 50.000000\n",
      "Price prediction: 1376.390954\n",
      "Surface: 125.000000\n",
      "Price prediction: 3954.935602\n",
      "Surface: 68.000000\n",
      "Price prediction: 1740.825873\n",
      "Surface: 55.000000\n",
      "Price prediction: 1865.421670\n",
      "Surface: 40.000000\n",
      "Price prediction: 1173.927110\n",
      "Surface: 64.000000\n",
      "Price prediction: 2134.073461\n",
      "Surface: 20.000000\n",
      "Price prediction: 823.291504\n",
      "Surface: 59.000000\n",
      "Price prediction: 2058.500385\n",
      "Surface: 55.000000\n",
      "Price prediction: 1937.411170\n",
      "Surface: 60.000000\n",
      "Price prediction: 2014.672665\n",
      "Surface: 62.000000\n",
      "Price prediction: 2199.309782\n",
      "Surface: 28.540000\n",
      "Price prediction: 941.903545\n",
      "Surface: 65.610000\n",
      "Price prediction: 2297.014687\n",
      "Surface: 60.840000\n",
      "Price prediction: 2039.746832\n",
      "Surface: 112.000000\n",
      "Price prediction: 3566.883014\n",
      "Surface: 41.030000\n",
      "Price prediction: 1631.755250\n",
      "Surface: 27.000000\n",
      "Price prediction: 1041.141790\n",
      "Surface: 70.300000\n",
      "Price prediction: 1787.392557\n",
      "Surface: 20.600000\n",
      "Price prediction: 781.147253\n",
      "Surface: 45.700000\n",
      "Price prediction: 1289.331501\n",
      "Surface: 42.000000\n",
      "Price prediction: 1658.008369\n",
      "Surface: 53.000000\n",
      "Price prediction: 1876.866563\n",
      "Surface: 77.080000\n",
      "Price prediction: 2607.451048\n",
      "Surface: 182.000000\n",
      "Price prediction: 5447.118262\n",
      "Surface: 27.000000\n",
      "Price prediction: 1029.616097\n",
      "Surface: 14.000000\n",
      "Price prediction: 900.186390\n",
      "Surface: 55.000000\n",
      "Price prediction: 2009.854288\n",
      "Surface: 19.000000\n",
      "Price prediction: 1035.511743\n",
      "Surface: 106.000000\n",
      "Price prediction: 3387.781820\n",
      "Surface: 49.330000\n",
      "Price prediction: 1696.171042\n",
      "Surface: 30.000000\n",
      "Price prediction: 1134.506199\n",
      "Surface: 66.000000\n",
      "Price prediction: 1700.333104\n",
      "Surface: 80.000000\n",
      "Price prediction: 2686.481054\n",
      "Surface: 20.000000\n",
      "Price prediction: 820.664704\n",
      "Surface: 35.230000\n",
      "Price prediction: 1338.927726\n",
      "Surface: 24.000000\n",
      "Price prediction: 940.065500\n",
      "Surface: 25.000000\n",
      "Price prediction: 870.231344\n",
      "Surface: 43.160000\n",
      "Price prediction: 1237.905685\n",
      "Surface: 14.000000\n",
      "Price prediction: 647.521116\n",
      "Surface: 67.000000\n",
      "Price prediction: 2334.635136\n",
      "Surface: 33.000000\n",
      "Price prediction: 1271.420488\n",
      "Surface: 36.120000\n",
      "Price prediction: 1301.849912\n",
      "Surface: 44.530000\n",
      "Price prediction: 1726.482998\n",
      "Surface: 70.300000\n",
      "Price prediction: 1787.392557\n",
      "Surface: 46.000000\n",
      "Price prediction: 1664.960437\n",
      "Surface: 23.000000\n",
      "Price prediction: 829.738575\n",
      "Surface: 25.000000\n",
      "Price prediction: 870.231344\n",
      "Surface: 64.000000\n",
      "Price prediction: 2134.073461\n",
      "Surface: 68.420000\n",
      "Price prediction: 1749.329354\n",
      "Surface: 85.070000\n",
      "Price prediction: 2847.699344\n",
      "Surface: 88.000000\n",
      "Price prediction: 2936.397194\n",
      "Surface: 32.000000\n",
      "Price prediction: 1387.357662\n",
      "Surface: 23.000000\n",
      "Price prediction: 1143.772026\n",
      "Surface: 28.000000\n",
      "Price prediction: 1279.097379\n",
      "Surface: 93.600000\n",
      "Price prediction: 2259.133313\n",
      "Surface: 21.000000\n",
      "Price prediction: 908.152843\n",
      "Surface: 19.440000\n",
      "Price prediction: 1047.420375\n",
      "Surface: 84.350000\n",
      "Price prediction: 2804.214112\n",
      "Surface: 33.000000\n",
      "Price prediction: 1271.420488\n",
      "Surface: 30.000000\n",
      "Price prediction: 1134.506199\n",
      "Surface: 38.000000\n",
      "Price prediction: 1357.968287\n",
      "Surface: 42.000000\n",
      "Price prediction: 1543.871222\n",
      "Surface: 25.000000\n",
      "Price prediction: 1197.902167\n",
      "Surface: 68.000000\n",
      "Price prediction: 2253.474257\n",
      "Surface: 160.000000\n",
      "Price prediction: 5116.003063\n",
      "Surface: 18.000000\n",
      "Price prediction: 761.048565\n",
      "Surface: 27.000000\n",
      "Price prediction: 910.724113\n",
      "Surface: 54.000000\n",
      "Price prediction: 1907.138867\n",
      "Surface: 137.400000\n",
      "Price prediction: 4240.016111\n",
      "Surface: 10.000000\n",
      "Price prediction: 522.162714\n",
      "Surface: 45.000000\n",
      "Price prediction: 1601.328241\n",
      "Surface: 145.980000\n",
      "Price prediction: 4472.234417\n",
      "Surface: 88.000000\n",
      "Price prediction: 2145.753561\n",
      "Surface: 72.000000\n",
      "Price prediction: 2452.040334\n",
      "Surface: 45.000000\n",
      "Price prediction: 1634.688133\n",
      "Surface: 90.000000\n",
      "Price prediction: 2957.131761\n",
      "Surface: 40.000000\n",
      "Price prediction: 1173.927110\n",
      "Surface: 72.000000\n",
      "Price prediction: 2452.040334\n",
      "Surface: 90.000000\n",
      "Price prediction: 2186.246330\n",
      "Surface: 23.750000\n",
      "Price prediction: 939.997015\n",
      "Surface: 30.000000\n",
      "Price prediction: 1134.506199\n",
      "Surface: 37.000000\n",
      "Price prediction: 1113.187957\n",
      "Surface: 28.000000\n",
      "Price prediction: 1279.097379\n",
      "Surface: 26.000000\n",
      "Price prediction: 1010.020321\n",
      "Surface: 50.000000\n",
      "Price prediction: 1716.170675\n",
      "Surface: 36.370000\n",
      "Price prediction: 1100.432735\n",
      "Surface: 35.000000\n",
      "Price prediction: 1468.552874\n",
      "Surface: 39.000000\n",
      "Price prediction: 1414.599424\n",
      "Surface: 105.000000\n",
      "Price prediction: 3468.616409\n",
      "Surface: 30.000000\n",
      "Price prediction: 1119.166694\n",
      "Surface: 35.000000\n",
      "Price prediction: 1331.965096\n",
      "Surface: 25.000000\n",
      "Price prediction: 978.898851\n",
      "Surface: 160.000000\n",
      "Price prediction: 5116.003063\n",
      "Surface: 58.000000\n",
      "Price prediction: 1538.362029\n",
      "Surface: 82.000000\n",
      "Price prediction: 2754.763371\n",
      "Surface: 28.000000\n",
      "Price prediction: 1120.058969\n",
      "Surface: 32.670000\n",
      "Price prediction: 1025.521112\n",
      "Surface: 50.000000\n",
      "Price prediction: 1874.528934\n",
      "Surface: 57.000000\n",
      "Price prediction: 1974.785874\n",
      "Surface: 40.000000\n",
      "Price prediction: 1603.878228\n",
      "Surface: 64.110000\n",
      "Price prediction: 2196.059522\n",
      "Surface: 25.000000\n",
      "Price prediction: 870.231344\n",
      "Surface: 35.000000\n",
      "Price prediction: 1331.965096\n",
      "Surface: 19.000000\n",
      "Price prediction: 792.170035\n",
      "Surface: 22.000000\n",
      "Price prediction: 885.534443\n",
      "R² score: 0.8696162642072248\n"
     ]
    }
   ],
   "source": [
    "final_pred = []\n",
    "\n",
    "for idx, val in xtest.iterrows(): # returns (index, Series)\n",
    "    # apply a price prediction on a surface value from a \"arrondissement\" (district) \n",
    "    # with the corresponding linear regression model.\n",
    "    # predict() expects a 2D-Array and we retrieve only the first element\n",
    "    pred = lrs[int(val[\"arrondissement\"]-1)].predict( [[val[\"surface\"]]] )[0][0] \n",
    "    \n",
    "    final_pred.append(pred)\n",
    "    \n",
    "    print(\"Surface: %f\" % val[\"surface\"])\n",
    "    print(\"Price prediction: %f\" % pred)\n",
    "    \n",
    "print(\"R² score: \" + str(r2_score(ytest['price'], final_pred))) "
   ]
  },
  {
   "cell_type": "markdown",
   "id": "ca729570",
   "metadata": {},
   "source": [
    "## Plots"
   ]
  },
  {
   "cell_type": "code",
   "execution_count": 75,
   "id": "e001ac75",
   "metadata": {},
   "outputs": [
    {
     "data": {
      "text/plain": [
       "[<matplotlib.lines.Line2D at 0x7efdc57f6940>]"
      ]
     },
     "execution_count": 75,
     "metadata": {},
     "output_type": "execute_result"
    },
    {
     "data": {
      "image/png": "[encoded data removed]",
      "text/plain": [
       "<Figure size 432x288 with 1 Axes>"
      ]
     },
     "metadata": {
      "needs_background": "light"
     },
     "output_type": "display_data"
    }
   ],
   "source": [
    "plt.plot(xtest[[\"surface\"]], ytest, 'bo', markersize = 5)\n",
    "plt.plot(xtest[[\"surface\"]], lrs[0].predict(xtest[[\"surface\"]]), color = \"#00FFFF\", linewidth = 2)\n",
    "plt.plot(xtest[[\"surface\"]], lrs[1].predict(xtest[[\"surface\"]]), color = \"#0000FF\", linewidth = 2)\n",
    "plt.plot(xtest[[\"surface\"]], lrs[2].predict(xtest[[\"surface\"]]), color = \"#00FF00\", linewidth = 2)\n",
    "plt.plot(xtest[[\"surface\"]], lrs[3].predict(xtest[[\"surface\"]]), color = \"#FF0000\", linewidth = 2)\n",
    "plt.plot(xtest[[\"surface\"]], lrs[4].predict(xtest[[\"surface\"]]), color = \"#FFFF00\", linewidth = 2)"
   ]
  },
  {
   "cell_type": "markdown",
   "id": "29ace359",
   "metadata": {},
   "source": [
    "Other features might be added to improve the model:\n",
    "- Distance from schools\n",
    "- Geolocalization (lat, long) to use Knn\n",
    "- new/old\n",
    "- ..."
   ]
  }
 ],
 "metadata": {
  "kernelspec": {
   "display_name": "Python 3",
   "language": "python",
   "name": "python3"
  },
  "language_info": {
   "codemirror_mode": {
    "name": "ipython",
    "version": 3
   },
   "file_extension": ".py",
   "mimetype": "text/x-python",
   "name": "python",
   "nbconvert_exporter": "python",
   "pygments_lexer": "ipython3",
   "version": "3.8.8"
  }
 },
 "nbformat": 4,
 "nbformat_minor": 5
}
