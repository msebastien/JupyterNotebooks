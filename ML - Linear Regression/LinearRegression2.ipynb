{
 "cells": [
  {
   "cell_type": "markdown",
   "id": "7daecd98",
   "metadata": {},
   "source": [
    "## Dependencies"
   ]
  },
  {
   "cell_type": "code",
   "execution_count": 2,
   "id": "395d77ae",
   "metadata": {},
   "outputs": [],
   "source": [
    "import numpy as np\n",
    "import pandas as pd\n",
    "import matplotlib.pyplot as plt"
   ]
  },
  {
   "cell_type": "markdown",
   "id": "15a812c0",
   "metadata": {},
   "source": [
    "## Dataset"
   ]
  },
  {
   "cell_type": "code",
   "execution_count": 1,
   "id": "648e3e4b",
   "metadata": {},
   "outputs": [
    {
     "name": "stdout",
     "output_type": "stream",
     "text": [
      "--2021-09-09 07:21:39--  https://static.oc-static.com/prod/courses/files/initiez-vous-au-machine-learning/house_data.csv\n",
      "Resolving static.oc-static.com (static.oc-static.com)... 172.67.169.198, 104.21.27.218, 2606:4700:3036::6815:1bda, ...\n",
      "Connecting to static.oc-static.com (static.oc-static.com)|172.67.169.198|:443... connected.\n",
      "HTTP request sent, awaiting response... 200 OK\n",
      "Length: 9730 (9.5K) [application/octet-stream]\n",
      "Saving to: ‘house_data.csv’\n",
      "\n",
      "house_data.csv      100%[===================>]   9.50K  --.-KB/s    in 0s      \n",
      "\n",
      "2021-09-09 07:21:39 (102 MB/s) - ‘house_data.csv’ saved [9730/9730]\n",
      "\n"
     ]
    }
   ],
   "source": [
    "! wget -c \"https://static.oc-static.com/prod/courses/files/initiez-vous-au-machine-learning/house_data.csv\""
   ]
  },
  {
   "cell_type": "code",
   "execution_count": 67,
   "id": "6460c27c",
   "metadata": {},
   "outputs": [
    {
     "name": "stdout",
     "output_type": "stream",
     "text": [
      "<pandas.core.groupby.generic.DataFrameGroupBy object at 0x7fad93c98eb0>\n",
      "                              price\n",
      "arrondissement surface             \n",
      "1.0            12.00     650.000000\n",
      "               14.00     800.000000\n",
      "               15.00     800.000000\n",
      "               16.90     715.000000\n",
      "               18.00     750.000000\n",
      "...                             ...\n",
      "10.0           116.00   2616.500000\n",
      "               117.00   2950.000000\n",
      "               120.00   2850.000000\n",
      "               140.38   2970.000000\n",
      "               169.00   3556.666667\n",
      "\n",
      "[470 rows x 1 columns]\n",
      "0       1\n",
      "165     2\n",
      "295     3\n",
      "471     4\n",
      "651    10\n",
      "Name: arrondissement, dtype: int64\n",
      "0       12.00\n",
      "1       14.00\n",
      "2       15.00\n",
      "3       16.90\n",
      "4       18.00\n",
      "        ...  \n",
      "465    116.00\n",
      "466    117.00\n",
      "467    120.00\n",
      "468    140.38\n",
      "469    169.00\n",
      "Name: surface, Length: 470, dtype: float64\n"
     ]
    },
    {
     "data": {
      "image/png": "[encoded data removed]",
      "text/plain": [
       "<Figure size 432x288 with 1 Axes>"
      ]
     },
     "metadata": {
      "needs_background": "light"
     },
     "output_type": "display_data"
    }
   ],
   "source": [
    "house_data = pd.read_csv(\"house_data.csv\")\n",
    "\n",
    "# Using categorical data for groupby operations\n",
    "group = house_data.groupby(['arrondissement', 'surface'])\n",
    "mean_price = group.mean()\n",
    "print(house_data.groupby(['arrondissement']))\n",
    "print(mean_price)\n",
    "\n",
    "arrondissements = house_data.dropna().drop_duplicates(subset='arrondissement')['arrondissement'].astype('int')\n",
    "surfaces = mean_price.reset_index()['surface']\n",
    "\n",
    "print(arrondissements)\n",
    "print(surfaces)\n",
    "\n",
    "colors = ['b', 'g', 'r', 'c', 'm']\n",
    "color_idx = 0\n",
    "for arrondissement in arrondissements:\n",
    "    plt.plot(surfaces, mean_price['price'], 'ro', color=colors[color_idx], markersize=4, label=f'Arrondissement {arrondissement}')\n",
    "    #plt.scatter(surfaces, mean_price.get_group(arrondissement), c=colors[color_idx], label=f'Arrondissement {arrondissement}')\n",
    "    color_idx = color_idx + 1\n",
    "\n",
    "plt.legend()\n",
    "plt.show()\n",
    "\n",
    "#for nb, df in group:\n",
    "#    df.plot.scatter(x='surface', y=\"price\", c=colors[color_idx])\n",
    "#plt.show()\n",
    "\n",
    "#fig, ax = plt.subplots(figsize=(15,7))\n",
    "#mean_price['price'].plot(ax=ax)\n",
    "\n",
    "    \n",
    "\n"
   ]
  },
  {
   "cell_type": "code",
   "execution_count": null,
   "id": "f8344e32",
   "metadata": {},
   "outputs": [],
   "source": []
  },
  {
   "cell_type": "code",
   "execution_count": null,
   "id": "baeb5949",
   "metadata": {},
   "outputs": [],
   "source": []
  }
 ],
 "metadata": {
  "kernelspec": {
   "display_name": "Python 3",
   "language": "python",
   "name": "python3"
  },
  "language_info": {
   "codemirror_mode": {
    "name": "ipython",
    "version": 3
   },
   "file_extension": ".py",
   "mimetype": "text/x-python",
   "name": "python",
   "nbconvert_exporter": "python",
   "pygments_lexer": "ipython3",
   "version": "3.8.8"
  }
 },
 "nbformat": 4,
 "nbformat_minor": 5
}
